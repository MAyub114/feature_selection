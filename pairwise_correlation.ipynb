{
 "cells": [
  {
   "cell_type": "markdown",
   "metadata": {},
   "source": [
    "# Pairwise correlation for robust feature selection\n",
    "\n",
    "* Feature selection is important to remove redundant features, reduce model complexity, and avoid overfitting\n",
    "* Some techniques focus on removal of features based on individual properties\n",
    "* Pairwise correlation examines the connection between features and decides if they are worth keeping"
   ]
  },
  {
   "cell_type": "code",
   "execution_count": null,
   "metadata": {
    "vscode": {
     "languageId": "plaintext"
    }
   },
   "outputs": [],
   "source": []
  }
 ],
 "metadata": {
  "language_info": {
   "name": "python"
  },
  "orig_nbformat": 4
 },
 "nbformat": 4,
 "nbformat_minor": 2
}
