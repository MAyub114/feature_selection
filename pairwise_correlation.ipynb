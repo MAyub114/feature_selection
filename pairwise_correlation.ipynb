{
 "cells": [
  {
   "cell_type": "markdown",
   "metadata": {},
   "source": [
    "# Pairwise correlation for robust feature selection\n",
    "\n",
    "* Feature selection is important to remove redundant features, reduce model complexity, and avoid overfitting\n",
    "* Some techniques focus on removal of features based on individual properties\n",
    "* Pairwise correlation examines the connection between features and decides if they are worth keeping\n",
    "\n",
    "\n",
    "### Pearson's correlation coefficient\n",
    "\n",
    "* Quantifies the linear relationship between two distributions (or features) in a single metric\n",
    "* Symbol is `r` with range [-1, 1]\n",
    "  * -1 is a perfect negative correlation\n",
    "  * +1 is a perfect positive correlation\n",
    "  * strong correlation: 0.7 <= |r| < 1.0\n",
    "  * moderate correlation: 0.3 <= |r| < 0.7\n",
    "  * weak correlation: 0.0 <= |r| < 0.3\n",
    "\n",
    "\n",
    "### How Pearson correlation is used in feature selection\n",
    "\n",
    "* Let's say that the Pearson correlation between two feaures is 0.85\n",
    "* This means that 85% of the time, you can predict feature 2 by using the values of feature 1\n",
    "* If you have feature 1 in your dataset, feature 2 is not adding much information\n",
    "* You can remove feature 2 since it only adds more complexity to our trained model\n",
    "* Pairwise correlation identifies groups of highly correlated features and only keeps one of them\n",
    "* The model has high predictive power using fewer features\n",
    "\n",
    "\n",
    "### How to identify highly correlated features\n",
    "\n",
    "* Plot a correlation matrix"
   ]
  },
  {
   "cell_type": "code",
   "execution_count": null,
   "metadata": {
    "vscode": {
     "languageId": "plaintext"
    }
   },
   "outputs": [],
   "source": []
  }
 ],
 "metadata": {
  "language_info": {
   "name": "python"
  },
  "orig_nbformat": 4
 },
 "nbformat": 4,
 "nbformat_minor": 2
}
